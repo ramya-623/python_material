{
 "cells": [
  {
   "cell_type": "markdown",
   "id": "a9a988c3",
   "metadata": {},
   "source": [
    "# Different types of Print Statements"
   ]
  },
  {
   "cell_type": "markdown",
   "id": "49a4c3c5",
   "metadata": {},
   "source": [
    "    Print Statements: Print statement is used to send the output to the computer screen. The message can be int or string or any other objects "
   ]
  },
  {
   "cell_type": "code",
   "execution_count": 1,
   "id": "825c5c94",
   "metadata": {},
   "outputs": [
    {
     "name": "stdout",
     "output_type": "stream",
     "text": [
      "Hello World!...\n"
     ]
    }
   ],
   "source": [
    "# Using Double quotes\n",
    "print(\"Hello World!...\")"
   ]
  },
  {
   "cell_type": "code",
   "execution_count": 2,
   "id": "193818a1",
   "metadata": {},
   "outputs": [
    {
     "name": "stdout",
     "output_type": "stream",
     "text": [
      "HELLO WORLD !...\n"
     ]
    }
   ],
   "source": [
    "print(\"HELLO\",\"WORLD\",\"!...\")\n",
    "# without seperator "
   ]
  },
  {
   "cell_type": "code",
   "execution_count": 3,
   "id": "957a9ee1",
   "metadata": {},
   "outputs": [
    {
     "name": "stdout",
     "output_type": "stream",
     "text": [
      "HELLO,WORLd\n"
     ]
    }
   ],
   "source": [
    "#with seperator\n",
    "print(\"HELLO\" ,\"WORLd\",sep = \",\")"
   ]
  },
  {
   "cell_type": "code",
   "execution_count": 4,
   "id": "15ddef43",
   "metadata": {},
   "outputs": [
    {
     "name": "stdout",
     "output_type": "stream",
     "text": [
      "hello world\n",
      "hello hello\n"
     ]
    }
   ],
   "source": [
    "print(\"\"\"hello world\n",
    "hello hello\"\"\")"
   ]
  },
  {
   "cell_type": "code",
   "execution_count": 5,
   "id": "cb8ed3b1",
   "metadata": {},
   "outputs": [
    {
     "name": "stdout",
     "output_type": "stream",
     "text": [
      "hello WORld\n"
     ]
    }
   ],
   "source": [
    "print(\"hello\",end = \" \")\n",
    "print(\"WORld\")"
   ]
  },
  {
   "cell_type": "markdown",
   "id": "3b08d1c3",
   "metadata": {},
   "source": [
    "# { }  as Placeholder :\n",
    "                        {} is used as a placeholder and .format() is used to fill the values in the placeholder"
   ]
  },
  {
   "cell_type": "code",
   "execution_count": 6,
   "id": "d1165057",
   "metadata": {},
   "outputs": [
    {
     "name": "stdout",
     "output_type": "stream",
     "text": [
      "Gud Mrng...! It's 5'o clock\n"
     ]
    }
   ],
   "source": [
    "print(\"Gud Mrng...! It's {}'o clock\".format(5))\n",
    "# the value which is given in format ,that value is filled in the{}"
   ]
  },
  {
   "cell_type": "code",
   "execution_count": 7,
   "id": "4dc0621d",
   "metadata": {},
   "outputs": [
    {
     "name": "stdout",
     "output_type": "stream",
     "text": [
      "Here is the work of day1 and done successfully.\n"
     ]
    }
   ],
   "source": [
    "print(\"Here is the work of day{} and done suc{}essfully.\".format(1,'c'))"
   ]
  },
  {
   "cell_type": "markdown",
   "id": "1fa80560",
   "metadata": {},
   "source": [
    "# % as placeholder:\n",
    "                                "
   ]
  },
  {
   "cell_type": "code",
   "execution_count": 8,
   "id": "06cbd0a7",
   "metadata": {},
   "outputs": [
    {
     "name": "stdout",
     "output_type": "stream",
     "text": [
      "gud morning......5'o clock\n"
     ]
    }
   ],
   "source": [
    "print(\"gud morning......%i'o clock\"%(5))"
   ]
  },
  {
   "cell_type": "code",
   "execution_count": 9,
   "id": "0a795655",
   "metadata": {},
   "outputs": [
    {
     "name": "stdout",
     "output_type": "stream",
     "text": [
      "gud mrng\n"
     ]
    }
   ],
   "source": [
    "print(\"%s mrng\"%(\"gud\"))"
   ]
  },
  {
   "cell_type": "code",
   "execution_count": 10,
   "id": "99b997df",
   "metadata": {},
   "outputs": [
    {
     "name": "stdout",
     "output_type": "stream",
     "text": [
      "10+10\n"
     ]
    }
   ],
   "source": [
    "print(\"{}+{}\".format(10,10))"
   ]
  },
  {
   "cell_type": "code",
   "execution_count": 11,
   "id": "118aaffc",
   "metadata": {},
   "outputs": [
    {
     "name": "stdout",
     "output_type": "stream",
     "text": [
      "my ramya\n"
     ]
    }
   ],
   "source": [
    "print(\"my {name}\".format(name = \"ramya\"))"
   ]
  },
  {
   "cell_type": "code",
   "execution_count": 12,
   "id": "d979113d",
   "metadata": {},
   "outputs": [
    {
     "name": "stdout",
     "output_type": "stream",
     "text": [
      "10 + 20\n"
     ]
    }
   ],
   "source": [
    "print(\"%d + %d\"%(10,20))"
   ]
  },
  {
   "cell_type": "code",
   "execution_count": 13,
   "id": "296c04bb",
   "metadata": {},
   "outputs": [
    {
     "name": "stdout",
     "output_type": "stream",
     "text": [
      "111000\n"
     ]
    }
   ],
   "source": [
    "a = 56\n",
    "print(format(a,'b'))"
   ]
  },
  {
   "cell_type": "code",
   "execution_count": 14,
   "id": "c26aceb5",
   "metadata": {},
   "outputs": [
    {
     "data": {
      "text/plain": [
       "'this is used for multiline \\n comments'"
      ]
     },
     "execution_count": 14,
     "metadata": {},
     "output_type": "execute_result"
    }
   ],
   "source": [
    "\"\"\"this is used for multiline \n",
    " comments\"\"\""
   ]
  },
  {
   "cell_type": "code",
   "execution_count": 15,
   "id": "0ff0137e",
   "metadata": {},
   "outputs": [
    {
     "data": {
      "text/plain": [
       "'This is Ramya Sree'"
      ]
     },
     "execution_count": 15,
     "metadata": {},
     "output_type": "execute_result"
    }
   ],
   "source": [
    "\"\"\"This is Ramya Sree\"\"\""
   ]
  },
  {
   "cell_type": "code",
   "execution_count": 16,
   "id": "2dc75007",
   "metadata": {},
   "outputs": [],
   "source": [
    "# my name is ramya sree"
   ]
  },
  {
   "cell_type": "markdown",
   "id": "c80e2f17",
   "metadata": {},
   "source": [
    "# Lists:\n",
    "            \n",
    "            List is the data structure is used to store the Multiple data in a single Variable.List is ordered , indexed(which starts from '0'),mutable,allows Duplicates."
   ]
  },
  {
   "cell_type": "code",
   "execution_count": 17,
   "id": "1d43885e",
   "metadata": {},
   "outputs": [
    {
     "name": "stdout",
     "output_type": "stream",
     "text": [
      "['ramya']\n"
     ]
    }
   ],
   "source": [
    "# creating the list\n",
    "# mute change\n",
    "my_list1 = []\n",
    "my_list1.append('ramya')\n",
    "print(my_list1)"
   ]
  },
  {
   "cell_type": "code",
   "execution_count": 18,
   "id": "9baa8df7",
   "metadata": {},
   "outputs": [
    {
     "name": "stdout",
     "output_type": "stream",
     "text": [
      "['ramya sree']\n"
     ]
    },
    {
     "data": {
      "text/plain": [
       "list"
      ]
     },
     "execution_count": 18,
     "metadata": {},
     "output_type": "execute_result"
    }
   ],
   "source": [
    "a = list()\n",
    "a.append('ramya sree')\n",
    "print(a)\n",
    "type(a)"
   ]
  },
  {
   "cell_type": "code",
   "execution_count": 19,
   "id": "5569bb63",
   "metadata": {},
   "outputs": [
    {
     "data": {
      "text/plain": [
       "['ramya', 'Bhavvi']"
      ]
     },
     "execution_count": 19,
     "metadata": {},
     "output_type": "execute_result"
    }
   ],
   "source": [
    "my_list1.append('Bhavvi')\n",
    "my_list1"
   ]
  },
  {
   "cell_type": "code",
   "execution_count": 20,
   "id": "d2b409a3",
   "metadata": {},
   "outputs": [
    {
     "data": {
      "text/plain": [
       "['ramya', 'Bhavvi', 'ramya sree']"
      ]
     },
     "execution_count": 20,
     "metadata": {},
     "output_type": "execute_result"
    }
   ],
   "source": [
    "my_list1.extend(a)\n",
    "my_list1"
   ]
  },
  {
   "cell_type": "code",
   "execution_count": 21,
   "id": "1e2b6a7b",
   "metadata": {},
   "outputs": [
    {
     "data": {
      "text/plain": [
       "['Bhavvi', 'ramya', 'ramya sree']"
      ]
     },
     "execution_count": 21,
     "metadata": {},
     "output_type": "execute_result"
    }
   ],
   "source": [
    "sorted(my_list1)"
   ]
  },
  {
   "cell_type": "code",
   "execution_count": 22,
   "id": "8b706fe1",
   "metadata": {},
   "outputs": [
    {
     "data": {
      "text/plain": [
       "'Bhavvi'"
      ]
     },
     "execution_count": 22,
     "metadata": {},
     "output_type": "execute_result"
    }
   ],
   "source": [
    "my_list1[1]"
   ]
  },
  {
   "cell_type": "code",
   "execution_count": 23,
   "id": "cdfd4572",
   "metadata": {},
   "outputs": [
    {
     "data": {
      "text/plain": [
       "'ramya sree'"
      ]
     },
     "execution_count": 23,
     "metadata": {},
     "output_type": "execute_result"
    }
   ],
   "source": [
    "my_list1[-1]"
   ]
  },
  {
   "cell_type": "code",
   "execution_count": 24,
   "id": "fc086a58",
   "metadata": {},
   "outputs": [
    {
     "data": {
      "text/plain": [
       "['ramya', 'Bhavvi', 'ramya sree']"
      ]
     },
     "execution_count": 24,
     "metadata": {},
     "output_type": "execute_result"
    }
   ],
   "source": [
    "my_list1[:]"
   ]
  },
  {
   "cell_type": "code",
   "execution_count": 25,
   "id": "b6b112cc",
   "metadata": {},
   "outputs": [
    {
     "data": {
      "text/plain": [
       "['anuradha', 'ramya', 'Bhavvi', 'ramya sree']"
      ]
     },
     "execution_count": 25,
     "metadata": {},
     "output_type": "execute_result"
    }
   ],
   "source": [
    "my_list1.insert(0,'anuradha')\n",
    "my_list1"
   ]
  },
  {
   "cell_type": "code",
   "execution_count": 26,
   "id": "b6197d48",
   "metadata": {},
   "outputs": [
    {
     "data": {
      "text/plain": [
       "'ramya sree'"
      ]
     },
     "execution_count": 26,
     "metadata": {},
     "output_type": "execute_result"
    }
   ],
   "source": [
    "my_list1.pop()"
   ]
  },
  {
   "cell_type": "code",
   "execution_count": 27,
   "id": "b93a335d",
   "metadata": {},
   "outputs": [
    {
     "data": {
      "text/plain": [
       "['anuradha', 'ramya', 'Bhavvi']"
      ]
     },
     "execution_count": 27,
     "metadata": {},
     "output_type": "execute_result"
    }
   ],
   "source": [
    "my_list1"
   ]
  },
  {
   "cell_type": "code",
   "execution_count": 28,
   "id": "e3f7fd06",
   "metadata": {},
   "outputs": [
    {
     "name": "stdout",
     "output_type": "stream",
     "text": [
      "ramya\n"
     ]
    }
   ],
   "source": [
    "print(max(my_list1))"
   ]
  },
  {
   "cell_type": "code",
   "execution_count": 29,
   "id": "a6481406",
   "metadata": {},
   "outputs": [],
   "source": [
    "my_list1.remove('ramya')\n"
   ]
  },
  {
   "cell_type": "code",
   "execution_count": 30,
   "id": "e3327113",
   "metadata": {},
   "outputs": [
    {
     "data": {
      "text/plain": [
       "['anuradha', 'Bhavvi']"
      ]
     },
     "execution_count": 30,
     "metadata": {},
     "output_type": "execute_result"
    }
   ],
   "source": [
    "my_list1"
   ]
  },
  {
   "cell_type": "code",
   "execution_count": 36,
   "id": "3500a80c",
   "metadata": {},
   "outputs": [
    {
     "name": "stdout",
     "output_type": "stream",
     "text": [
      "['Bhavvi', 'anuradha']\n"
     ]
    }
   ],
   "source": [
    "print(list(reversed(my_list1)))"
   ]
  },
  {
   "cell_type": "markdown",
   "id": "58b3567c",
   "metadata": {},
   "source": [
    "# Set :\n",
    "            \n",
    "            Set is a data structure used to store multiple elements in a single variable. Set items are unordered,unindexed,unchangable(but u can remove elements and add elements). Duplicates not allowed."
   ]
  },
  {
   "cell_type": "code",
   "execution_count": 38,
   "id": "36fe2a12",
   "metadata": {},
   "outputs": [
    {
     "data": {
      "text/plain": [
       "{'bhavvi', 'chinni', 'radha', 'ramya', 'razesh'}"
      ]
     },
     "execution_count": 38,
     "metadata": {},
     "output_type": "execute_result"
    }
   ],
   "source": [
    "set1 = {'ramya','radha','bhavvi','chinni','razesh'}\n",
    "set1"
   ]
  },
  {
   "cell_type": "code",
   "execution_count": 39,
   "id": "5ffb5878",
   "metadata": {},
   "outputs": [
    {
     "data": {
      "text/plain": [
       "{'ramya'}"
      ]
     },
     "execution_count": 39,
     "metadata": {},
     "output_type": "execute_result"
    }
   ],
   "source": [
    "set2 = {'ramya','ramya'}\n",
    "set2"
   ]
  },
  {
   "cell_type": "code",
   "execution_count": 43,
   "id": "f6d1e013",
   "metadata": {},
   "outputs": [
    {
     "data": {
      "text/plain": [
       "{'radha', 'ramya'}"
      ]
     },
     "execution_count": 43,
     "metadata": {},
     "output_type": "execute_result"
    }
   ],
   "source": [
    "a = ['ramya','radha']\n",
    "b = set(a)\n",
    "b"
   ]
  },
  {
   "cell_type": "code",
   "execution_count": 44,
   "id": "ff3e8dff",
   "metadata": {},
   "outputs": [
    {
     "data": {
      "text/plain": [
       "set"
      ]
     },
     "execution_count": 44,
     "metadata": {},
     "output_type": "execute_result"
    }
   ],
   "source": [
    "type(b)"
   ]
  },
  {
   "cell_type": "code",
   "execution_count": 46,
   "id": "c244324f",
   "metadata": {},
   "outputs": [
    {
     "data": {
      "text/plain": [
       "{'radha', 'ramya', 'razesh'}"
      ]
     },
     "execution_count": 46,
     "metadata": {},
     "output_type": "execute_result"
    }
   ],
   "source": [
    "a = set(('ramya','radha','razesh','ramya'))\n",
    "a"
   ]
  },
  {
   "cell_type": "code",
   "execution_count": 51,
   "id": "74a5d03c",
   "metadata": {},
   "outputs": [
    {
     "name": "stdout",
     "output_type": "stream",
     "text": [
      "radha, ramya, razesh, "
     ]
    }
   ],
   "source": [
    "for i in a:\n",
    "    print(i,end = \", \")"
   ]
  },
  {
   "cell_type": "code",
   "execution_count": 53,
   "id": "7d735000",
   "metadata": {},
   "outputs": [
    {
     "data": {
      "text/plain": [
       "{'radha', 'ramya', 'razesh', 'srinu'}"
      ]
     },
     "execution_count": 53,
     "metadata": {},
     "output_type": "execute_result"
    }
   ],
   "source": [
    "a.add('srinu')\n",
    "a"
   ]
  },
  {
   "cell_type": "code",
   "execution_count": 55,
   "id": "72581411",
   "metadata": {},
   "outputs": [],
   "source": [
    "c = {'chinni','div'}"
   ]
  },
  {
   "cell_type": "code",
   "execution_count": 56,
   "id": "113106f5",
   "metadata": {},
   "outputs": [
    {
     "data": {
      "text/plain": [
       "{'chinni', 'div', 'radha', 'ramya', 'razesh', 'srinu'}"
      ]
     },
     "execution_count": 56,
     "metadata": {},
     "output_type": "execute_result"
    }
   ],
   "source": [
    "a.update(c)\n",
    "a"
   ]
  },
  {
   "cell_type": "code",
   "execution_count": 57,
   "id": "72911810",
   "metadata": {},
   "outputs": [],
   "source": [
    "a.remove('div')"
   ]
  },
  {
   "cell_type": "code",
   "execution_count": 58,
   "id": "73389e14",
   "metadata": {},
   "outputs": [
    {
     "data": {
      "text/plain": [
       "{'chinni', 'radha', 'ramya', 'razesh', 'srinu'}"
      ]
     },
     "execution_count": 58,
     "metadata": {},
     "output_type": "execute_result"
    }
   ],
   "source": [
    "a"
   ]
  },
  {
   "cell_type": "code",
   "execution_count": 59,
   "id": "9da2a437",
   "metadata": {},
   "outputs": [
    {
     "data": {
      "text/plain": [
       "{'chinni', 'radha', 'ramya', 'srinu'}"
      ]
     },
     "execution_count": 59,
     "metadata": {},
     "output_type": "execute_result"
    }
   ],
   "source": [
    "a.discard('razesh')\n",
    "a"
   ]
  },
  {
   "cell_type": "code",
   "execution_count": 60,
   "id": "2a4ee678",
   "metadata": {},
   "outputs": [
    {
     "data": {
      "text/plain": [
       "'ramya'"
      ]
     },
     "execution_count": 60,
     "metadata": {},
     "output_type": "execute_result"
    }
   ],
   "source": [
    "a.pop()"
   ]
  },
  {
   "cell_type": "code",
   "execution_count": 61,
   "id": "471ca2df",
   "metadata": {},
   "outputs": [
    {
     "name": "stdout",
     "output_type": "stream",
     "text": [
      "{'chinni', 'radha', 'srinu'}\n"
     ]
    }
   ],
   "source": [
    "print(a)"
   ]
  },
  {
   "cell_type": "code",
   "execution_count": 62,
   "id": "f1d3df48",
   "metadata": {},
   "outputs": [],
   "source": [
    "a.clear()"
   ]
  },
  {
   "cell_type": "code",
   "execution_count": 63,
   "id": "d8038221",
   "metadata": {},
   "outputs": [
    {
     "data": {
      "text/plain": [
       "set()"
      ]
     },
     "execution_count": 63,
     "metadata": {},
     "output_type": "execute_result"
    }
   ],
   "source": [
    "a"
   ]
  },
  {
   "cell_type": "code",
   "execution_count": 67,
   "id": "b192b881",
   "metadata": {},
   "outputs": [
    {
     "ename": "TypeError",
     "evalue": "set.add() takes exactly one argument (2 given)",
     "output_type": "error",
     "traceback": [
      "\u001b[1;31m---------------------------------------------------------------------------\u001b[0m",
      "\u001b[1;31mTypeError\u001b[0m                                 Traceback (most recent call last)",
      "\u001b[1;32mC:\\Users\\RAMYAG~1\\AppData\\Local\\Temp/ipykernel_7908/1056790633.py\u001b[0m in \u001b[0;36m<module>\u001b[1;34m\u001b[0m\n\u001b[1;32m----> 1\u001b[1;33m \u001b[0ma\u001b[0m\u001b[1;33m.\u001b[0m\u001b[0madd\u001b[0m\u001b[1;33m(\u001b[0m\u001b[1;34m'ramya'\u001b[0m\u001b[1;33m,\u001b[0m\u001b[1;34m'anu'\u001b[0m\u001b[1;33m)\u001b[0m\u001b[1;33m\u001b[0m\u001b[1;33m\u001b[0m\u001b[0m\n\u001b[0m",
      "\u001b[1;31mTypeError\u001b[0m: set.add() takes exactly one argument (2 given)"
     ]
    }
   ],
   "source": [
    "a.add('ramya','anu')"
   ]
  },
  {
   "cell_type": "code",
   "execution_count": 68,
   "id": "6bcb2842",
   "metadata": {},
   "outputs": [
    {
     "data": {
      "text/plain": [
       "{'ramya'}"
      ]
     },
     "execution_count": 68,
     "metadata": {},
     "output_type": "execute_result"
    }
   ],
   "source": [
    "a"
   ]
  },
  {
   "cell_type": "code",
   "execution_count": 70,
   "id": "54fc967d",
   "metadata": {},
   "outputs": [
    {
     "name": "stdout",
     "output_type": "stream",
     "text": [
      "{1, 2, 3, 4, 5, 6, 7, 8}\n"
     ]
    }
   ],
   "source": [
    "a = {1,2,3,4}\n",
    "b = {5,6,7,8}\n",
    "a.union(b)\n",
    "c = a.union(b)\n",
    "print(c)"
   ]
  },
  {
   "cell_type": "code",
   "execution_count": 72,
   "id": "6fb1db70",
   "metadata": {},
   "outputs": [
    {
     "name": "stdout",
     "output_type": "stream",
     "text": [
      "{1, 2, 3, 4, 5, 6, 7, 8}\n"
     ]
    }
   ],
   "source": [
    "a.update(b)\n",
    "print(a)"
   ]
  },
  {
   "cell_type": "code",
   "execution_count": 73,
   "id": "b1d27270",
   "metadata": {},
   "outputs": [
    {
     "data": {
      "text/plain": [
       "{5, 6, 7, 8}"
      ]
     },
     "execution_count": 73,
     "metadata": {},
     "output_type": "execute_result"
    }
   ],
   "source": [
    "a.intersection_update(b)\n",
    "a # prints common elements"
   ]
  },
  {
   "cell_type": "code",
   "execution_count": 75,
   "id": "ee775f76",
   "metadata": {},
   "outputs": [
    {
     "data": {
      "text/plain": [
       "{5, 6, 7, 8}"
      ]
     },
     "execution_count": 75,
     "metadata": {},
     "output_type": "execute_result"
    }
   ],
   "source": [
    "a.symmetric_difference(b)\n",
    "a"
   ]
  },
  {
   "cell_type": "code",
   "execution_count": 76,
   "id": "c409fa54",
   "metadata": {},
   "outputs": [
    {
     "data": {
      "text/plain": [
       "set()"
      ]
     },
     "execution_count": 76,
     "metadata": {},
     "output_type": "execute_result"
    }
   ],
   "source": [
    "a.symmetric_difference_update(b)\n",
    "a"
   ]
  },
  {
   "cell_type": "code",
   "execution_count": 77,
   "id": "a7af3a15",
   "metadata": {},
   "outputs": [
    {
     "data": {
      "text/plain": [
       "True"
      ]
     },
     "execution_count": 77,
     "metadata": {},
     "output_type": "execute_result"
    }
   ],
   "source": [
    "a.issubset(b)"
   ]
  },
  {
   "cell_type": "code",
   "execution_count": null,
   "id": "97dce4a3",
   "metadata": {},
   "outputs": [],
   "source": []
  },
  {
   "cell_type": "code",
   "execution_count": null,
   "id": "a0edc032",
   "metadata": {},
   "outputs": [],
   "source": []
  }
 ],
 "metadata": {
  "kernelspec": {
   "display_name": "Python 3 (ipykernel)",
   "language": "python",
   "name": "python3"
  },
  "language_info": {
   "codemirror_mode": {
    "name": "ipython",
    "version": 3
   },
   "file_extension": ".py",
   "mimetype": "text/x-python",
   "name": "python",
   "nbconvert_exporter": "python",
   "pygments_lexer": "ipython3",
   "version": "3.9.7"
  }
 },
 "nbformat": 4,
 "nbformat_minor": 5
}
